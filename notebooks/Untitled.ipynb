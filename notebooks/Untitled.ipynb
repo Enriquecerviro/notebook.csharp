{
 "cells": [
  {
   "cell_type": "markdown",
   "metadata": {},
   "source": [
    "Tenemos un archivo JSON con datos(as a DB) y una clase C# como esta:"
   ]
  },
  {
   "cell_type": "code",
   "execution_count": null,
   "metadata": {},
   "outputs": [],
   "source": [
    "public class Product\n",
    "{\n",
    "    public string id {get; set;}\n",
    "    public string name {get; set;}\n",
    "    [JsonPropertyName(\"img\")]\n",
    "    public string image {get; set;}\n",
    "    public int[] ratings {get; set;}\n",
    "    \n",
    "    public override ToString() => JsonSerializer.Serialize<Product>(this);\n",
    "    \n",
    "}\n"
   ]
  }
 ],
 "metadata": {
  "kernelspec": {
   "display_name": ".NET (C#)",
   "language": "C#",
   "name": ".net-csharp"
  },
  "language_info": {
   "file_extension": ".cs",
   "mimetype": "text/x-csharp",
   "name": "C#",
   "pygments_lexer": "csharp",
   "version": "8.0"
  }
 },
 "nbformat": 4,
 "nbformat_minor": 2
}
